{
 "cells": [
  {
   "cell_type": "code",
   "execution_count": null,
   "id": "420152fc",
   "metadata": {},
   "outputs": [],
   "source": [
    "-- Creating tables for PH-EmployeeDB\n",
    "CREATE TABLE departments (\n",
    "     dept_no VARCHAR(4) NOT NULL,\n",
    "     dept_name VARCHAR(40) NOT NULL,\n",
    "     PRIMARY KEY (dept_no),\n",
    "     UNIQUE (dept_name)\n",
    ");\n",
    "\n",
    "CREATE TABLE employees (\n",
    "\t emp_no INT NOT NULL,\n",
    "     birth_date DATE NOT NULL,\n",
    "     first_name VARCHAR NOT NULL,\n",
    "     last_name VARCHAR NOT NULL,\n",
    "     gender VARCHAR NOT NULL,\n",
    "     hire_date DATE NOT NULL,\n",
    "     PRIMARY KEY (emp_no)\n",
    ");\n",
    "\n",
    "CREATE TABLE dept_manager (\n",
    "dept_no VARCHAR(4) NOT NULL,\n",
    "    emp_no INT NOT NULL,\n",
    "    from_date DATE NOT NULL,\n",
    "    to_date DATE NOT NULL,\n",
    "FOREIGN KEY (emp_no) REFERENCES employees (emp_no),\n",
    "FOREIGN KEY (dept_no) REFERENCES departments (dept_no),\n",
    "    PRIMARY KEY (emp_no, dept_no)\n",
    ");\n",
    "\n",
    "CREATE TABLE salaries (\n",
    "  emp_no INT NOT NULL,\n",
    "  salary INT NOT NULL,\n",
    "  from_date DATE NOT NULL,\n",
    "  to_date DATE NOT NULL,\n",
    "  FOREIGN KEY (emp_no) REFERENCES employees (emp_no),\n",
    "  PRIMARY KEY (emp_no)\n",
    ");\n",
    "\n",
    "---> did noT WORK!!\n",
    "CREATE TABLE dept_emp (\n",
    "\tdept_no VARCHAR(4) NOT NULL,\n",
    "\temp_no INT NOT NULL,\n",
    "\tfrom_date DATE NOT NULL,\n",
    "\tto_date DATE NOT NULL,\n",
    "\tFOREIGN KEY (dept_no) REFERENCES departments (dept_no)\n",
    "\tFOREIGN KEY (emp_no) REFERENCES salaries (emp_no)\n",
    "\t\tPRIMARY KEY (emp_no, dept_no)\n",
    ");\n",
    "\t\n",
    "\t\n",
    "SELECT * FROM DEPARTMENTS; "
   ]
  }
 ],
 "metadata": {
  "kernelspec": {
   "display_name": "PythonData",
   "language": "python",
   "name": "pythondata"
  },
  "language_info": {
   "codemirror_mode": {
    "name": "ipython",
    "version": 3
   },
   "file_extension": ".py",
   "mimetype": "text/x-python",
   "name": "python",
   "nbconvert_exporter": "python",
   "pygments_lexer": "ipython3",
   "version": "3.7.11"
  }
 },
 "nbformat": 4,
 "nbformat_minor": 5
}
